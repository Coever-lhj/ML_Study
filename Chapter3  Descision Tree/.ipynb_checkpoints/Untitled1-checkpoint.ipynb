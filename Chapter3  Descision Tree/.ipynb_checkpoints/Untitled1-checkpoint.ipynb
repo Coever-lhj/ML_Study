{
 "cells": [
  {
   "cell_type": "code",
   "execution_count": null,
   "metadata": {},
   "outputs": [],
   "source": [
    "def getNumLeafs(myTree):\n",
    "    numLeafs = 0\n",
    "    \n",
    "    ##############################################################################\n",
    "    # myTree = {'no surfing': {0: 'no', 1: {'flippers': {0: 'no', 1: 'yes'}}}}   #\n",
    "    ##############################################################################\n",
    "    # myTree 의 object 갯수는 ?? #\n",
    "    ##############################\n",
    "    \n",
    "    # 첫번째 Node = 첫번째 key \n",
    "    firstStr = list(myTree)[0] # firstStr = 'no surfing'\n",
    "    # 첫번째 key에 해당하는 value\n",
    "    secondDict = myTree[firstStr] # SecondDict = {0: 'no', 1: {'flippers': {0: 'no', 1: 'yes'}}}\n",
    "    \n",
    "    # test to see if the nodes are dictonaires, if not they are leaf nodes\n",
    "    for key in secondDict.keys(): # key = 0 , 1\n",
    "        # 만약 자식 Node가 딕셔너리 유형이라면, 이것은 다른 의사결정 노드이며 함수를 재귀적으로 호출해야 함\n",
    "        if type(secondDict[key]).__name__ == 'dict': \n",
    "            numLeafs += getNumLeafs(secondDict[key]) \n",
    "        else: numLeafs += 1\n",
    "\n",
    "    return numLeafs\n",
    "# 최종확인 #\n",
    "getNumLeafs(myTree)"
   ]
  },
  {
   "cell_type": "code",
   "execution_count": null,
   "metadata": {},
   "outputs": [],
   "source": []
  }
 ],
 "metadata": {
  "kernelspec": {
   "display_name": "Python 3",
   "language": "python",
   "name": "python3"
  },
  "language_info": {
   "codemirror_mode": {
    "name": "ipython",
    "version": 3
   },
   "file_extension": ".py",
   "mimetype": "text/x-python",
   "name": "python",
   "nbconvert_exporter": "python",
   "pygments_lexer": "ipython3",
   "version": "3.5.4"
  }
 },
 "nbformat": 4,
 "nbformat_minor": 2
}
