{
 "cells": [
  {
   "cell_type": "markdown",
   "metadata": {},
   "source": [
    "안녕하세요"
   ]
  },
  {
   "cell_type": "markdown",
   "metadata": {},
   "source": [
    "### ------------------------------------------------------------------------------------------------------------------------------------------------------\n",
    "# 1. \" tree.py \" : 규칙 생성\n",
    "### ------------------------------------------------------------------------------------------------------------------------------------------------------"
   ]
  },
  {
   "cell_type": "markdown",
   "metadata": {},
   "source": [
    "### 1.1 예제 DataSet을 myData와 labels(속성)으로 나눔"
   ]
  },
  {
   "cell_type": "code",
   "execution_count": 1,
   "metadata": {
    "collapsed": true
   },
   "outputs": [],
   "source": [
    "def createDataset():\n",
    "    dataSet = [[1, 1, 'yes'],\n",
    "               [1, 1, 'yes'],\n",
    "               [1, 0, 'no'],\n",
    "               [0, 1, 'no'],\n",
    "               [0, 1, 'no']]\n",
    "    labels = ['no surfacing', 'flippers']\n",
    "    return dataSet, labels\n",
    "myData, labels = createDataset()"
   ]
  },
  {
   "cell_type": "code",
   "execution_count": 28,
   "metadata": {},
   "outputs": [
    {
     "data": {
      "text/plain": [
       "[[1, 1, 'yes'], [1, 1, 'yes'], [1, 0, 'no'], [0, 1, 'no'], [0, 1, 'no']]"
      ]
     },
     "execution_count": 28,
     "metadata": {},
     "output_type": "execute_result"
    }
   ],
   "source": [
    "myData"
   ]
  },
  {
   "cell_type": "markdown",
   "metadata": {},
   "source": [
    "#### 엔트로피 개념 : 위의 dataSet의 세번째 컬럼을 분류할 예정이므로  'yes', 'no'에 대한 엔트로피를 직접 계산"
   ]
  },
  {
   "cell_type": "code",
   "execution_count": 3,
   "metadata": {},
   "outputs": [
    {
     "data": {
      "text/plain": [
       "0.9709505944546686"
      ]
     },
     "execution_count": 3,
     "metadata": {},
     "output_type": "execute_result"
    }
   ],
   "source": [
    "from math import log\n",
    "- 3/5 * log(3/5,2) - 2/5 * log(2/5, 2)"
   ]
  },
  {
   "cell_type": "markdown",
   "metadata": {},
   "source": [
    "### 1.2 엔트로피\n",
    "#### [리스팅 3.1]  데이터 집합의 섀넌 엔트로피를 계산하는 함수 "
   ]
  },
  {
   "cell_type": "code",
   "execution_count": 4,
   "metadata": {
    "collapsed": true,
    "slideshow": {
     "slide_type": "-"
    }
   },
   "outputs": [],
   "source": [
    "from math import log\n",
    "\n",
    "def calcShannonEnt(dataSet):\n",
    "    \n",
    "    # 확률 계산할 때 분모로 들어가는 부분\n",
    "    numEntries = len(dataSet)\n",
    "    \n",
    "    # 라벨별로 몇 개씩 있는 지 저장 (# dic 자료형 초기화)\n",
    "    labelCounts = {}\n",
    "    \n",
    "    # 데이터 집합 중 라벨 별로 몇 개씩 있는지 계산\n",
    "    for featVec in dataSet:\n",
    "        currentLabel = featVec[-1]\n",
    "        # key 값에 'yes'가 없다면 0, 'no'가 없다면 0\n",
    "        if currentLabel not in labelCounts.keys(): # key 는 마지막 칼럼에 있는 값을 가리킴 \n",
    "            labelCounts[currentLabel] = 0\n",
    "        #  추가!\n",
    "        labelCounts[currentLabel] += 1\n",
    "    \n",
    "    # 엔트로피 초기화\n",
    "    shannonEnt = 0.0\n",
    "    \n",
    "    # 확률 계산 및 shannonEnt 계산\n",
    "    for key in labelCounts:\n",
    "        prob = float(labelCounts[key])/numEntries\n",
    "        shannonEnt -= prob * log(prob, 2) #log_2 \n",
    "    return shannonEnt"
   ]
  },
  {
   "cell_type": "code",
   "execution_count": 11,
   "metadata": {},
   "outputs": [
    {
     "data": {
      "text/plain": [
       "0.9709505944546686"
      ]
     },
     "execution_count": 11,
     "metadata": {},
     "output_type": "execute_result"
    }
   ],
   "source": [
    "calcShannonEnt(myData)"
   ]
  },
  {
   "cell_type": "markdown",
   "metadata": {},
   "source": [
    "### 1.3 데이터 집합 분할하기\n",
    "\n",
    "#### [리스팅 3.2] : 주어진 속성으로 데이터 집합 분할하기"
   ]
  },
  {
   "cell_type": "code",
   "execution_count": 12,
   "metadata": {},
   "outputs": [
    {
     "data": {
      "text/plain": [
       "[[1, 1, 'yes'], [1, 1, 'yes'], [1, 0, 'no'], [0, 1, 'no'], [0, 1, 'no']]"
      ]
     },
     "execution_count": 12,
     "metadata": {},
     "output_type": "execute_result"
    }
   ],
   "source": [
    "myData"
   ]
  },
  {
   "cell_type": "code",
   "execution_count": 13,
   "metadata": {},
   "outputs": [
    {
     "data": {
      "text/plain": [
       "['no surfacing', 'flippers']"
      ]
     },
     "execution_count": 13,
     "metadata": {},
     "output_type": "execute_result"
    }
   ],
   "source": [
    "labels"
   ]
  },
  {
   "cell_type": "markdown",
   "metadata": {},
   "source": [
    "| 아래 3 개의 입력 인자 필요 | 설명 | 예시 |\n",
    "| :---:| :---: | :---: |\n",
    "| dataSet | 분할하고자 하는 데이터 집합 | myData |\n",
    "| axis | 분할하고자 하는 속성 | 'no surfing' |\n",
    "| value | 반환할 속성의 값 | 0 or 1 |"
   ]
  },
  {
   "cell_type": "code",
   "execution_count": 14,
   "metadata": {
    "collapsed": true
   },
   "outputs": [],
   "source": [
    "# nosurfing , flippers 처럼 속성 중에서 하나를 선택하여 \n",
    "# 선택된 속석 악을 제외한 나머지 값들을 결과로 반환하는 함수!!!\n",
    "\n",
    "def splitDataSet(dataSet, axis, value):\n",
    "    retDataSet = [] # 새로운 list 매번 생성하는 이유 : 참조 방식 처리로 부를 때마다 달라짐, 여러번 호출 당하기때문에 ...\n",
    "    for featVec in dataSet:\n",
    "        if featVec[axis] == value:\n",
    "            reducedFearVec = featVec[:axis] # 분할에 사용 된 축을 잘라냅니다.\n",
    "            reducedFearVec.extend(featVec[axis+1:])\n",
    "            retDataSet.append(reducedFearVec)\n",
    "    return retDataSet"
   ]
  },
  {
   "cell_type": "markdown",
   "metadata": {},
   "source": [
    "##### [보충] a.append(b) vs a.extend(b)"
   ]
  },
  {
   "cell_type": "code",
   "execution_count": 15,
   "metadata": {},
   "outputs": [
    {
     "data": {
      "text/plain": [
       "[1, 2, 3, [4, 5, 6]]"
      ]
     },
     "execution_count": 15,
     "metadata": {},
     "output_type": "execute_result"
    }
   ],
   "source": [
    "a = [1, 2, 3]\n",
    "b = [4, 5, 6]\n",
    "a.append(b)\n",
    "a"
   ]
  },
  {
   "cell_type": "code",
   "execution_count": 16,
   "metadata": {
    "scrolled": true
   },
   "outputs": [
    {
     "data": {
      "text/plain": [
       "[1, 2, 3, 4, 5, 6]"
      ]
     },
     "execution_count": 16,
     "metadata": {},
     "output_type": "execute_result"
    }
   ],
   "source": [
    "a = [1, 2, 3]\n",
    "b = [4, 5, 6]\n",
    "a.extend(b)\n",
    "a"
   ]
  },
  {
   "cell_type": "markdown",
   "metadata": {},
   "source": [
    "##### 앞서 만든 Data로 splitDataSet()을 실행!"
   ]
  },
  {
   "cell_type": "code",
   "execution_count": 17,
   "metadata": {},
   "outputs": [
    {
     "data": {
      "text/plain": [
       "[[1, 'yes'], [1, 'yes'], [0, 'no']]"
      ]
     },
     "execution_count": 17,
     "metadata": {},
     "output_type": "execute_result"
    }
   ],
   "source": [
    "splitDataSet(myData, 0, 1) # nosurfing = 1 일 때 'nosurfing'을 제외한 나머지 속성들만 출력"
   ]
  },
  {
   "cell_type": "code",
   "execution_count": 18,
   "metadata": {},
   "outputs": [
    {
     "data": {
      "text/plain": [
       "[[1, 'no'], [1, 'no']]"
      ]
     },
     "execution_count": 18,
     "metadata": {},
     "output_type": "execute_result"
    }
   ],
   "source": [
    "splitDataSet(myData, 0, 0) # nosurfing = 0 일 때 'nosurfing'을 제외한 나머지 속성들만 출력"
   ]
  },
  {
   "cell_type": "markdown",
   "metadata": {},
   "source": [
    "#### [리스팅 3.3] 모든 속성들끼리 Information Gain을 비교하며 데이터 분할 시 가장 좋은 속성 선택하기"
   ]
  },
  {
   "cell_type": "code",
   "execution_count": 19,
   "metadata": {
    "collapsed": true
   },
   "outputs": [],
   "source": [
    "# 어떤 질문을 먼저 해야 효율적인지 선별하는 과정\n",
    "def chooseBestFeatureToSplit(dataSet):\n",
    "    numFeatures = len(dataSet[0]) - 1      # 목표변수 제외한 속성들의 수 (Null값도 길이 계산!!)\n",
    "    baseEntropy = calcShannonEnt(dataSet)  # 기존 Entoropy 계산 : - 3/5 * log(3/5,2) - 2/5 * log(2/5, 2) = 0.97\n",
    "    bestInfoGain = 0.0                     \n",
    "    bestFeature = -1                     #### 왜 -1 인가? -> 그냥 ??\n",
    "    \n",
    "    for i in range(numFeatures):        #  모든 속성들의 information gain 구하기 (i = 0)\n",
    "        featList = [example[i] for example in dataSet] # create a list of all the examples of this feature [1, 1, 1, 0, 0]\n",
    "        uniqueVals = set(featList)       # 분류항목에 중복이 없는 dic 생성 {0, 1}\n",
    "        newEntropy = 0.0\n",
    "        \n",
    "        # 정보이득을 구하는 과정\n",
    "        for value in uniqueVals:   # value = 0\n",
    "            subDataSet = splitDataSet(dataSet, i, value)  # subDataSet = splitDataSet(dataSet, i = 0, value = 0)\n",
    "            prob = len(subDataSet)/float(len(dataSet))    # 3/5\n",
    "            newEntropy += prob * calcShannonEnt(subDataSet) # newEntropy = - 3/5 * (2/3 * log(2/3,2))\n",
    "        \n",
    "        # calculate 정보이득이the info gain; ie reduction in entropy\n",
    "        infoGain = baseEntropy - newEntropy  # baseEntropy = 0.97  \n",
    "                                             # value = 0  -> - 3/5 * (-2/3 * log(2/3,2) -1/3 * log(1/3, 2)) = 55 \n",
    "                                             # value = 1  ->-2/5 * (-2/2 * log(2/2,2) ) = 0 \n",
    "                                             # infoGain = baseEntropy - newEntropy = 0.97 - ( 0.55 + 0 ) = 0.42\n",
    "        \n",
    "        #  가장 큰 속성을 찾기 위한 비교!!!\n",
    "        if (infoGain > bestInfoGain):       #  0.42 > 0 이므로 (i = 0)\n",
    "            bestInfoGain = infoGain         #  \n",
    "            bestFeature = i                 #  bestFeature = 0\n",
    "    \n",
    "    return bestFeature                      # returns an integer"
   ]
  },
  {
   "cell_type": "markdown",
   "metadata": {},
   "source": [
    "### 1.4 InfoGain이 큰 속성 기준으로 반복하면서 트리 만들기"
   ]
  },
  {
   "cell_type": "markdown",
   "metadata": {},
   "source": [
    "dict는 리스트나 튜플이랑은 다르게 순서가 없습니다. 따라서 dict 타입은 소팅할 수 없기때문에, dict를 소팅하고 싶다면 dict를 튜플의 리스트로 표현"
   ]
  },
  {
   "cell_type": "markdown",
   "metadata": {},
   "source": [
    "1. 분류 항목명의 목록을 가져와서 classList 내에 유일한 키 값이 되도록 딕셔너리 생성함\n",
    "\n",
    "2. 그리고 이 딕셔너리의 대상은 classList에서 각각의 분류 항목에 대한 발생 빈도(frequency)\n",
    "\n",
    "3. 딕셔너리를 정렬하고 발생 빈도가 가장 큰 항목 반환"
   ]
  },
  {
   "cell_type": "code",
   "execution_count": 20,
   "metadata": {
    "collapsed": true
   },
   "outputs": [],
   "source": [
    "# 다수결\n",
    "import operator\n",
    "\n",
    "def majorityCnt(classList):\n",
    "    classCount={} # dic 자료\n",
    "    for vote in classList:\n",
    "        if vote not in classCount.keys():\n",
    "            classCount[vote] = 0\n",
    "        classCount[vote] += 1\n",
    "    sortedClassCount = sorted(classCount.items(), key = operator.itemgetter(1), reverse = True) # [('no', 3), ('yes', 2)]\n",
    "    return sortedClassCount[0][0]"
   ]
  },
  {
   "cell_type": "markdown",
   "metadata": {},
   "source": [
    "#### [리스팅 3.4] 트리 만들기 코드"
   ]
  },
  {
   "cell_type": "code",
   "execution_count": 21,
   "metadata": {
    "collapsed": true
   },
   "outputs": [],
   "source": [
    "def createTree(dataSet, labels):\n",
    "    classList = [example[-1] for example in dataSet] # ['yes', 'yes', 'no', 'no', 'no']\n",
    "    \n",
    "    # stop splitting when all of the classes are equal \n",
    "    # 첫 번째 멈춤 조건 : 모든 분류 항목이 같은 경우 -> 항목 표시 반환\n",
    "    if classList.count(classList[0]) == len(classList):  #  3 (yes' 의 갯수) != 5  -> 분류항목이 다름\n",
    "        return classList[0] \n",
    "    \n",
    "    # stop splitting when there are no more features in dataSet \n",
    "    # 두 번째 멈춤 조건 : 더 이상 분류할 속성이 없는 경우 (속성이 1개)\n",
    "    if len(dataSet[0]) == 1:                             #  3 ('Data의 column 갯수') != 1\n",
    "        return majorityCnt(classList)                    #  더 이상 속성이 없다면 majorityCnt(classList) 호출!!\n",
    "    \n",
    "    # dataset에서 정보이득이 가장 높은 속성 선택 \n",
    "    bestFeat = chooseBestFeatureToSplit(dataSet)         # ( bestFeat = 0 )\n",
    "    bestFeatLabel = labels[bestFeat]                     # bestFeatLabel = 'no surfing'\n",
    "    myTree = {bestFeatLabel:{}}                          # 트리를 저장하기 위해 myTree = {'no surfing': {}}  -> dic 생성\n",
    "    \n",
    "    #  labels[0] = 'no surfing'사용했으므로 삭제\n",
    "    del(labels[bestFeat])\n",
    "    \n",
    "    \n",
    "    featValues = [example[bestFeat] for example in dataSet]   # featValues = [1, 1, 1, 0, 0]\n",
    "    uniqueVals = set(featValues)                              # uniqueVals = {0, 1}\n",
    "    \n",
    "####################################################################################################################################\n",
    "    \n",
    "    \n",
    "    for value in uniqueVals:  # value = 0\n",
    "        \n",
    "        # copy all of labels, so trees don't mess up existing labels\n",
    "        subLabels = labels[:]        #  subLabels = [flippers']\n",
    "        myTree[bestFeatLabel][value] = createTree(splitDataSet(dataSet, bestFeat, value), subLabels)\n",
    "        \n",
    "    return myTree"
   ]
  },
  {
   "cell_type": "code",
   "execution_count": 23,
   "metadata": {},
   "outputs": [
    {
     "data": {
      "text/plain": [
       "['yes', 'yes', 'no', 'no', 'no']"
      ]
     },
     "execution_count": 23,
     "metadata": {},
     "output_type": "execute_result"
    }
   ],
   "source": [
    "classList = [example[-1] for example in myData]\n",
    "classList"
   ]
  },
  {
   "cell_type": "code",
   "execution_count": 24,
   "metadata": {},
   "outputs": [
    {
     "data": {
      "text/plain": [
       "{'no surfacing': {0: 'no', 1: {'flippers': {0: 'no', 1: 'yes'}}}}"
      ]
     },
     "execution_count": 24,
     "metadata": {},
     "output_type": "execute_result"
    }
   ],
   "source": [
    "myTree = createTree(myData, labels)\n",
    "myTree"
   ]
  },
  {
   "cell_type": "markdown",
   "metadata": {},
   "source": [
    "### ------------------------------------------------------------------------------------------------------------------------------------------------------\n",
    "# 2 \"treePlotter.py\"  Matplot 라이브러리 주석으로 파이썬 트리 plot하기\n",
    "### ------------------------------------------------------------------------------------------------------------------------------------------------------"
   ]
  },
  {
   "cell_type": "markdown",
   "metadata": {},
   "source": [
    "### 2.1 matplotlib 주석"
   ]
  },
  {
   "cell_type": "markdown",
   "metadata": {},
   "source": [
    "** 내에 있는 데이터 점들을 설명하도록 주석 추가하는 도구 (주로 화살표와 같이 사용)**\n",
    "> **[annotation 도구]** : https://matplotlib.org/1.3.1/users/annotations_guide.html\n"
   ]
  },
  {
   "cell_type": "markdown",
   "metadata": {},
   "source": [
    "#### [리스팅 3.5] 텍스트 주석을 가진 트리 Node plot 하기\n",
    "\n",
    "##### 1. decision Node [no surfing? , flippers?]\n",
    "##### 2. leaf Node [ yes , no]"
   ]
  },
  {
   "cell_type": "code",
   "execution_count": 25,
   "metadata": {
    "collapsed": true
   },
   "outputs": [],
   "source": [
    "import matplotlib.pyplot as plt\n",
    "\n",
    "# 상자(Node)와 화살표 형태 dic Tyoe 으로 정의\n",
    "decisionNode = dict(boxstyle = \"sawtooth\", fc = \"2\")  #  fc = 밝기 \n",
    "leafNode = dict(boxstyle = \"round4\", fc = \"0.8\") \n",
    "arrow_args = dict(arrowstyle=\"<|-\")\n",
    "\n",
    "\n",
    "# 화살표로 주석 그림\n",
    "def plotNode(nodeTxt, centerPt, parentPt, nodeType):\n",
    "    createPlot.ax1.annotate(nodeTxt, xy = parentPt, xycoords = 'axes fraction',\n",
    "                            xytext = centerPt, textcoords = 'axes fraction',\n",
    "                            va = \"center\", ha = \"center\", bbox = nodeType, arrowprops = arrow_args)"
   ]
  },
  {
   "cell_type": "code",
   "execution_count": 26,
   "metadata": {
    "scrolled": false
   },
   "outputs": [
    {
     "data": {
      "image/png": "[encoded data removed]",
      "text/plain": [
       "<matplotlib.figure.Figure at 0x1ade996fa90>"
      ]
     },
     "metadata": {},
     "output_type": "display_data"
    }
   ],
   "source": [
    "# [연습] Arc와 Node를 그려줌 (Base)\n",
    "def createPlot():\n",
    "    fig = plt.figure(1, facecolor='white')\n",
    "    fig.clf() # Clear figure : 현재의 그림 전체를 모든 축으로 plt.clf() 만 창이 열리므로 다른 플롯에 다시 사용가능!\n",
    "    # createPlot.ax1 = plt.subplot(111, frameon = False) # test -> frameon = False (프레임 틀 X )\n",
    "    createPlot.ax1 = plt.subplot(111, frameon = False) # test -> frameon = False (프레임 틀 X ) \n",
    "    plotNode('a decision node', (0.5, 0.1), (0.1, 0.5), decisionNode) # ('Node title', (mid point) , (parent start point), user's Node type )\n",
    "    plotNode('a leaf node', (0.8, 0.1), (0.3, 0.8), leafNode)\n",
    "    plt.show()\n",
    "    \n",
    "createPlot()"
   ]
  },
  {
   "cell_type": "markdown",
   "metadata": {},
   "source": [
    "### 2.2 annotation(주석) 트리 구축하기"
   ]
  },
  {
   "cell_type": "markdown",
   "metadata": {},
   "source": [
    "**트리를 plot 하기 위한 방법이 필요**\n",
    "\n",
    "\"X, Y 좌표로 이루어진 공간에서, 이제 모든 노드를 어디에 배치해야 할 것인가\" 라는 관점에서 아래와 같이 질문을 할 수 있다.\n",
    "\n",
    "1. leaf node들이 얼마나 있어야 X축 방향에서 적당한 크기로 화살표를 그릴 수 있게 될 것인가? \n",
    "2. depth 가 얼마나 있는지 알아야 Y축 방향에서 적당한 크기로 화살표를 그릴 수 있게 될 것인가?\n",
    "\n"
   ]
  },
  {
   "cell_type": "markdown",
   "metadata": {},
   "source": [
    "### [리스팅 3.6] 트리에 있는 노드의 개수와 깊이 확인"
   ]
  },
  {
   "cell_type": "code",
   "execution_count": 27,
   "metadata": {},
   "outputs": [
    {
     "data": {
      "text/plain": [
       "3"
      ]
     },
     "execution_count": 27,
     "metadata": {},
     "output_type": "execute_result"
    }
   ],
   "source": [
    "def getNumLeafs(myTree):\n",
    "    numLeafs = 0\n",
    "    \n",
    "    ##############################################################################\n",
    "    # myTree = {'no surfing': {0: 'no', 1: {'flippers': {0: 'no', 1: 'yes'}}}}   #\n",
    "    ##############################################################################\n",
    "    # myTree 의 object 갯수는 ?? #\n",
    "    ##############################\n",
    "    \n",
    "    # 첫번째 Node = 첫번째 key \n",
    "    firstStr = list(myTree)[0] # firstStr = 'no surfing'\n",
    "    # 첫번째 key에 해당하는 value\n",
    "    secondDict = myTree[firstStr] # SecondDict = {0: 'no', 1: {'flippers': {0: 'no', 1: 'yes'}}}\n",
    "    \n",
    "    # test to see if the nodes are dictonaires, if not they are leaf nodes\n",
    "    for key in secondDict.keys(): # key = 0 , 1\n",
    "        # 만약 자식 Node가 딕셔너리 유형이라면, 이것은 다른 의사결정 노드이며 함수를 재귀적으로 호출해야 함\n",
    "        if type(secondDict[key]).__name__ == 'dict': \n",
    "            numLeafs += getNumLeafs(secondDict[key]) \n",
    "        else: numLeafs += 1\n",
    "\n",
    "    return numLeafs\n",
    "# 최종확인 #\n",
    "getNumLeafs(myTree)"
   ]
  },
  {
   "cell_type": "code",
   "execution_count": 109,
   "metadata": {},
   "outputs": [
    {
     "data": {
      "text/plain": [
       "'no'"
      ]
     },
     "execution_count": 109,
     "metadata": {},
     "output_type": "execute_result"
    }
   ],
   "source": [
    "secondDict[0]"
   ]
  },
  {
   "cell_type": "code",
   "execution_count": 111,
   "metadata": {},
   "outputs": [
    {
     "data": {
      "text/plain": [
       "{'no surfacing': {0: 'no', 1: {'flippers': {0: 'no', 1: 'yes'}}}}"
      ]
     },
     "execution_count": 111,
     "metadata": {},
     "output_type": "execute_result"
    }
   ],
   "source": [
    "myTree"
   ]
  },
  {
   "cell_type": "code",
   "execution_count": 110,
   "metadata": {},
   "outputs": [
    {
     "data": {
      "text/plain": [
       "{'flippers': {0: 'no', 1: 'yes'}}"
      ]
     },
     "execution_count": 110,
     "metadata": {},
     "output_type": "execute_result"
    }
   ],
   "source": [
    "secondDict[1]"
   ]
  },
  {
   "cell_type": "code",
   "execution_count": 100,
   "metadata": {},
   "outputs": [
    {
     "data": {
      "text/plain": [
       "2"
      ]
     },
     "execution_count": 100,
     "metadata": {},
     "output_type": "execute_result"
    }
   ],
   "source": [
    "##############################################################################\n",
    "# myTree = {'no surfing': {0: 'no', 1: {'flippers': {0: 'no', 1: 'yes'}}}}   #\n",
    "##############################################################################\n",
    "\n",
    "def getTreeDepth(myTree):\n",
    "    \n",
    "    maxDepth = 0 \n",
    "    firstStr = list(myTree)[0] # 'no surfing'    \n",
    "    secondDict = myTree[firstStr] # 'no surfing'에 대한 value -> {0: 'no', 1: {'flippers': {0: 'no', 1: 'yes'}}}\n",
    "    for key in secondDict.keys(): # key = 0, 1\n",
    "        #test to see if the nodes are dictonaires, if not they are leaf nodes\n",
    "        if type(secondDict[key]).__name__ == 'dict':\n",
    "            thisDepth = 1 + getTreeDepth(secondDict[key])\n",
    "        else: thisDepth = 1\n",
    "        if thisDepth > maxDepth: \n",
    "            maxDepth = thisDepth\n",
    "    return maxDepth\n",
    "\n",
    "getTreeDepth(myTree)"
   ]
  },
  {
   "cell_type": "code",
   "execution_count": 107,
   "metadata": {},
   "outputs": [
    {
     "data": {
      "text/plain": [
       "'no'"
      ]
     },
     "execution_count": 107,
     "metadata": {},
     "output_type": "execute_result"
    }
   ],
   "source": [
    "firstStr = list(myTree)[0]\n",
    "secondDict = myTree[firstStr]\n",
    "secondDict[0]"
   ]
  },
  {
   "cell_type": "code",
   "execution_count": 108,
   "metadata": {},
   "outputs": [
    {
     "data": {
      "text/plain": [
       "{'flippers': {0: 'no', 1: 'yes'}}"
      ]
     },
     "execution_count": 108,
     "metadata": {},
     "output_type": "execute_result"
    }
   ],
   "source": [
    "secondDict[1]"
   ]
  },
  {
   "cell_type": "markdown",
   "metadata": {},
   "source": [
    "##### 제대로 작동하는지 검증"
   ]
  },
  {
   "cell_type": "code",
   "execution_count": 57,
   "metadata": {
    "collapsed": true
   },
   "outputs": [],
   "source": [
    "def retrieveTree(i):\n",
    "    listOfTrees = [{'no surfacing': {0: 'no', 1: {'flippers': {0: 'no', 1: 'yes'}}}},\n",
    "                   {'no surfacing': {0: 'no', 1: {'flippers': {0: {'head': {0: 'no', 1: 'yes'}}, 1: 'no'}}}}\n",
    "                  ]\n",
    "    return listOfTrees[i]"
   ]
  },
  {
   "cell_type": "code",
   "execution_count": 75,
   "metadata": {
    "collapsed": true
   },
   "outputs": [],
   "source": [
    "myTree = retrieveTree(0)"
   ]
  },
  {
   "cell_type": "code",
   "execution_count": 76,
   "metadata": {
    "collapsed": true
   },
   "outputs": [],
   "source": [
    "myTree2 = retrieveTree(1)"
   ]
  },
  {
   "cell_type": "code",
   "execution_count": 114,
   "metadata": {},
   "outputs": [
    {
     "data": {
      "text/plain": [
       "4"
      ]
     },
     "execution_count": 114,
     "metadata": {},
     "output_type": "execute_result"
    }
   ],
   "source": [
    "getNumLeafs(myTree2)"
   ]
  },
  {
   "cell_type": "code",
   "execution_count": 115,
   "metadata": {},
   "outputs": [
    {
     "data": {
      "text/plain": [
       "3"
      ]
     },
     "execution_count": 115,
     "metadata": {},
     "output_type": "execute_result"
    }
   ],
   "source": [
    "getTreeDepth(myTree2)"
   ]
  },
  {
   "cell_type": "markdown",
   "metadata": {},
   "source": [
    "#### [리스팅 3.7] plotTree 함수\n",
    "\n",
    "> treePlotter()함수를 가지고 있다는 것을 염두에 두고 코드를 변경해보자"
   ]
  },
  {
   "cell_type": "markdown",
   "metadata": {},
   "source": [
    "+ PlotMidText() : 자식 Node와 부모 Node 사이에 텍스트 플롯하기"
   ]
  },
  {
   "cell_type": "code",
   "execution_count": 79,
   "metadata": {
    "collapsed": true
   },
   "outputs": [],
   "source": [
    "def plotMidText(cntrPt, parentPt, txtString):\n",
    "    xMid = (parentPt[0]-cntrPt[0])/2.0 + cntrPt[0] # x축 사이값\n",
    "    yMid = (parentPt[1]-cntrPt[1])/2.0 + cntrPt[1] # y축 사이값 \n",
    "    createPlot.ax1.text(xMid, yMid, txtString, va=\"center\", ha=\"center\", rotation=30)"
   ]
  },
  {
   "cell_type": "code",
   "execution_count": 118,
   "metadata": {},
   "outputs": [
    {
     "data": {
      "image/png": "[encoded data removed]",
      "text/plain": [
       "<matplotlib.figure.Figure at 0x29bcc58ae10>"
      ]
     },
     "metadata": {},
     "output_type": "display_data"
    }
   ],
   "source": [
    "# figure 함수를 통해 Figure 객체를 먼저 만든 후\n",
    "fig = plt.figure(1, facecolor='gold')\n",
    "createPlot.ax1 = plt.subplot(111, frameon = False)\n",
    "createPlot.ax1.text( (0.1-0.5)/2.0 + 0.5, (0.5 - 0.1)/2.0 + 0.1, 'PYTHON SSSTUDY', va=\"center\", ha=\"center\", rotation = 0)\n",
    "plt.show()"
   ]
  },
  {
   "cell_type": "code",
   "execution_count": 81,
   "metadata": {},
   "outputs": [
    {
     "data": {
      "image/png": "[encoded data removed]",
      "text/plain": [
       "<matplotlib.figure.Figure at 0x29bcc2c92e8>"
      ]
     },
     "metadata": {},
     "output_type": "display_data"
    }
   ],
   "source": [
    "from matplotlib.pylab import *\n",
    "\n",
    "# you can now use both pyplot and numpy\n",
    "# functions as if they had been imported\n",
    "\n",
    "# from numpy namespace\n",
    "x = linspace(0,10,9)\n",
    "\n",
    "# from numpy.random namespace\n",
    "y = randn(9)\n",
    "\n",
    "# from pyplot namespace\n",
    "scatter(x,y)\n",
    "\n",
    "# cla -> clear current axis (현재 data???)\n",
    "# clf -> clear current figure\n",
    "# close -> window 제거\n",
    "# plt.cla\n",
    "show()\n"
   ]
  },
  {
   "cell_type": "markdown",
   "metadata": {},
   "source": [
    "+ plotTree() : 넓이와 높이 구하기"
   ]
  },
  {
   "cell_type": "code",
   "execution_count": 82,
   "metadata": {
    "collapsed": true
   },
   "outputs": [],
   "source": [
    "def plotTree(myTree, parentPt, nodeTxt):# if the first key tells you what feat was split on\n",
    "    \n",
    "    # plotTree에서 처음으로 일어나는 일은 \"트리의 넓이와 높이를 계산하는 것\" 이므로 아래 두개의 전역 변수는 아래에 저장...\n",
    "    numLeafs = getNumLeafs(myTree)\n",
    "    depth = getTreeDepth(myTree)\n",
    "    \n",
    "    # the text label for this node should be this -> python 3에서는 이렇게 입력해야해!!\n",
    "    firstStr = list(myTree)[0] # 'no surfacing'\n",
    "    # 자식노드 Point\n",
    "    cntrPt = (plotTree.xOff + (1.0 + float(numLeafs))/2.0/plotTree.totalW, plotTree.yOff) #  cntrPt = (0.5 , 1.0), parentPt = (0.5, 1.0)\n",
    "    # arc사이에 Text 집어넣기 cntrPt = parentPt 이므로 출력 X\n",
    "    plotMidText(cntrPt, parentPt, nodeTxt)\n",
    "    # \n",
    "    plotNode(firstStr, cntrPt, parentPt, decisionNode)\n",
    "    secondDict = myTree[firstStr]\n",
    "    plotTree.yOff = plotTree.yOff - 1.0/plotTree.totalD\n",
    "    for key in secondDict.keys():\n",
    "        if type(secondDict[key]).__name__ == 'dict':#test to see if the nodes are dictonaires, if not they are leaf nodes\n",
    "            plotTree(secondDict[key], cntrPt, str(key))    #recursion\n",
    "        else:   #it's a leaf node print the leaf node\n",
    "            plotTree.xOff = plotTree.xOff + 1.0/plotTree.totalW\n",
    "            plotNode(secondDict[key], (plotTree.xOff, plotTree.yOff), cntrPt, leafNode)\n",
    "            plotMidText((plotTree.xOff, plotTree.yOff), cntrPt, str(key))\n",
    "    plotTree.yOff = plotTree.yOff + 1.0/plotTree.totalD\n",
    "    \n",
    "#if you do get a dictonary you know it's a tree, and the first element will be another dict"
   ]
  },
  {
   "cell_type": "code",
   "execution_count": 119,
   "metadata": {},
   "outputs": [
    {
     "data": {
      "text/plain": [
       "{'no surfacing': {0: 'no', 1: {'flippers': {0: 'no', 1: 'yes'}}}}"
      ]
     },
     "execution_count": 119,
     "metadata": {},
     "output_type": "execute_result"
    }
   ],
   "source": [
    "myTree"
   ]
  },
  {
   "cell_type": "code",
   "execution_count": 83,
   "metadata": {
    "collapsed": true
   },
   "outputs": [],
   "source": [
    "numLeafs = 3\n",
    "plotTree.totalW = 3\n",
    "plotTree.totalD = 2\n",
    "plotTree.xOff = - 0.5/3.0\n",
    "plotTree.yOff = 1.0\n",
    "cntrPt = (plotTree.xOff + (1.0 + float(numLeafs))/2.0/plotTree.totalW, plotTree.yOff)\n",
    "parentPt = (0.5, 1.0)\n",
    "nodeTxt  = ''"
   ]
  },
  {
   "cell_type": "code",
   "execution_count": 84,
   "metadata": {},
   "outputs": [
    {
     "data": {
      "text/plain": [
       "(0.5, 1.0)"
      ]
     },
     "execution_count": 84,
     "metadata": {},
     "output_type": "execute_result"
    }
   ],
   "source": [
    "parentPt"
   ]
  },
  {
   "cell_type": "code",
   "execution_count": 85,
   "metadata": {},
   "outputs": [
    {
     "data": {
      "text/plain": [
       "(0.5, 1.0)"
      ]
     },
     "execution_count": 85,
     "metadata": {},
     "output_type": "execute_result"
    }
   ],
   "source": [
    "cntrPt"
   ]
  },
  {
   "cell_type": "code",
   "execution_count": 86,
   "metadata": {},
   "outputs": [
    {
     "ename": "NameError",
     "evalue": "name 'firstStr' is not defined",
     "output_type": "error",
     "traceback": [
      "\u001b[1;31m---------------------------------------------------------------------------\u001b[0m",
      "\u001b[1;31mNameError\u001b[0m                                 Traceback (most recent call last)",
      "\u001b[1;32m<ipython-input-86-f2f1f3641a5f>\u001b[0m in \u001b[0;36m<module>\u001b[1;34m()\u001b[0m\n\u001b[0;32m      2\u001b[0m \u001b[0mcreatePlot\u001b[0m\u001b[1;33m.\u001b[0m\u001b[0max1\u001b[0m \u001b[1;33m=\u001b[0m \u001b[0mplt\u001b[0m\u001b[1;33m.\u001b[0m\u001b[0msubplot\u001b[0m\u001b[1;33m(\u001b[0m\u001b[1;36m111\u001b[0m\u001b[1;33m,\u001b[0m \u001b[0mframeon\u001b[0m \u001b[1;33m=\u001b[0m \u001b[1;32mFalse\u001b[0m\u001b[1;33m)\u001b[0m\u001b[1;33m\u001b[0m\u001b[0m\n\u001b[0;32m      3\u001b[0m \u001b[0mplotMidText\u001b[0m\u001b[1;33m(\u001b[0m\u001b[0mcntrPt\u001b[0m\u001b[1;33m,\u001b[0m \u001b[0mparentPt\u001b[0m\u001b[1;33m,\u001b[0m \u001b[0mnodeTxt\u001b[0m\u001b[1;33m)\u001b[0m\u001b[1;33m\u001b[0m\u001b[0m\n\u001b[1;32m----> 4\u001b[1;33m \u001b[0mplotNode\u001b[0m\u001b[1;33m(\u001b[0m\u001b[0mfirstStr\u001b[0m\u001b[1;33m,\u001b[0m \u001b[0mcntrPt\u001b[0m\u001b[1;33m,\u001b[0m \u001b[0mparentPt\u001b[0m\u001b[1;33m,\u001b[0m \u001b[0mdecisionNode\u001b[0m\u001b[1;33m)\u001b[0m\u001b[1;33m\u001b[0m\u001b[0m\n\u001b[0m\u001b[0;32m      5\u001b[0m \u001b[0mplt\u001b[0m\u001b[1;33m.\u001b[0m\u001b[0mshow\u001b[0m\u001b[1;33m(\u001b[0m\u001b[1;33m)\u001b[0m\u001b[1;33m\u001b[0m\u001b[0m\n",
      "\u001b[1;31mNameError\u001b[0m: name 'firstStr' is not defined"
     ]
    }
   ],
   "source": [
    "fig = plt.figure(1, facecolor='gold')\n",
    "createPlot.ax1 = plt.subplot(111, frameon = False)\n",
    "plotMidText(cntrPt, parentPt, nodeTxt)\n",
    "plotNode(firstStr, cntrPt, parentPt, decisionNode)\n",
    "plt.show()"
   ]
  },
  {
   "cell_type": "markdown",
   "metadata": {},
   "source": [
    "+ createPlot()은 앞으로 사용하게 될 중요한 함수로, plotTree()로 호출\n",
    "\n",
    "plotTree()의 변경된 코드는 많은 이전 함수와 plotMidText()를 호출함\n",
    "\n",
    "##### Understanding the asterisk(*) of Python\n",
    "\n",
    "+ https://medium.com/understand-the-python/understanding-the-asterisk-of-python-8b9daaa4a558\n",
    "\n",
    "+ http://jhproject.tistory.com/109"
   ]
  },
  {
   "cell_type": "code",
   "execution_count": 93,
   "metadata": {
    "collapsed": true
   },
   "outputs": [],
   "source": [
    "def createPlot(inTree):\n",
    "    fig = plt.figure(1, facecolor='white') \n",
    "    fig.clf()\n",
    "    axprops = dict(xticks=[], yticks=[]) # 타입이 dic 인 axprops = {'xticks': [], 'yticks': []} 틱 설정 ->\n",
    "    \n",
    "    # createPlot.ax1 = plt.subplot(111, frameon=False) # ticks for demo puropses\n",
    "    createPlot.ax1 = plt.subplot(111, frameon = False, **axprops)    # **axprops : xtick, ytick 으로 설정\n",
    "    # createPlot.ax1 = plt.subplot(111, frameon = False)    # 축에 대한 범례가 보일 것임\n",
    "    \n",
    "    # 전역변수로 저장\n",
    "    plotTree.totalW = float(getNumLeafs(inTree)) # 3.0 -> 의사결정 노드를 배치할 위치를 계산하기 위해 사용\n",
    "    plotTree.totalD = float(getTreeDepth(inTree)) # 2.0 \n",
    "    \n",
    "    # 이미 그려진 노드를 계속해서 추적하고 다음 노드의 위치를 적절하게 배치하기 위해 xOff, yOff 전역변수 사용!\n",
    "    plotTree.xOff = -0.5/plotTree.totalW # -0.5/3.0 = -0.166\n",
    "    plotTree.yOff = 1.0  # 1.0\n",
    "    plotTree(inTree, (0.5, 1.0), '')\n",
    "    plt.show()"
   ]
  },
  {
   "cell_type": "code",
   "execution_count": 94,
   "metadata": {},
   "outputs": [
    {
     "data": {
      "image/png": "[encoded data removed]",
      "text/plain": [
       "<matplotlib.figure.Figure at 0x29bcc484438>"
      ]
     },
     "metadata": {},
     "output_type": "display_data"
    }
   ],
   "source": [
    "createPlot(myTree)"
   ]
  },
  {
   "cell_type": "markdown",
   "metadata": {},
   "source": [
    "### -------------------------------------------------------------------------------------------------------------------------------------------------------\n",
    "## 3.\" tree.py \" : (규칙 생성) + 분류기 검사와 저장\n",
    "### -------------------------------------------------------------------------------------------------------------------------------------------------------"
   ]
  },
  {
   "cell_type": "markdown",
   "metadata": {},
   "source": [
    "### 3.1 검사: 분류를 위한 트리 사용\n",
    "\n",
    "**목적** : 무언가를 분류하는 데 사용하기 위한 트리를 만들고, 훈련 데이터를 가지고 이 트리를 학습시킴\n",
    "\n",
    "**어떻게** : 트리 생성에 사용하기 위해서는 \"트리\"와 \"분류 항목 표시\" 벡터가 필요\n",
    "\n",
    "코드는 검사에 사용될 데이터를 가지고 의사결정 트리의 값과 서로 비교함 -> 코드는 leaf 노드와 마주칠 때까지 계속해서 재귀적으로 수행하여 결론에 도달하면 멈춤"
   ]
  },
  {
   "cell_type": "code",
   "execution_count": null,
   "metadata": {
    "collapsed": true
   },
   "outputs": [],
   "source": [
    "myTree"
   ]
  },
  {
   "cell_type": "markdown",
   "metadata": {},
   "source": [
    "#### [리스팅 3.8] 기존의 의사결정 트리를 위한 분류 함수"
   ]
  },
  {
   "cell_type": "code",
   "execution_count": null,
   "metadata": {
    "collapsed": true
   },
   "outputs": [],
   "source": [
    "def classify(inputTree, featLabels, testVec):\n",
    "    firstStr = list(inputTree)[0] # 'no surfacing'\n",
    "    secondDict = inputTree[firstStr] # {0: 'no', 1: {'flippers': {0: 'no', 1: 'yes'}}}\n",
    "    # index를 위한 분류 항목 표시 문자열 변환\n",
    "    featIndex = featLabels.index(firstStr) #  featIndex = labels.index(firstStr) = 0\n",
    "    key = testVec[featIndex] # testVec = [1, 0] -> key = 1\n",
    "    valueOfFeat = secondDict[key] # valueOfFeat = {'flippers': {0: 'no', 1: 'yes'}}\n",
    "    if isinstance(valueOfFeat, dict):\n",
    "        classLabel = classify(valueOfFeat, featLabels, testVec)\n",
    "    else: classLabel = valueOfFeat\n",
    "    return classLabel"
   ]
  },
  {
   "cell_type": "markdown",
   "metadata": {},
   "source": [
    "**문제점** : 속성 식별자처럼 분류 항목 표시가 있는 데이터를 저장하는 데에는 한 가지 문제가 있음 , 데이터 집합 내에 해당 속성이 어디에 있는지 알 수 없다는 것이다."
   ]
  },
  {
   "cell_type": "code",
   "execution_count": null,
   "metadata": {
    "collapsed": true
   },
   "outputs": [],
   "source": [
    "classify(myTree, labels, [1,1])"
   ]
  },
  {
   "cell_type": "markdown",
   "metadata": {},
   "source": [
    "### 3.2 사용 : 의사결정 트리 계속 유지하기\n",
    "\n",
    "#### [리스팅 3.9] pickle을 가지고 의사결정 트리를 유지시키는 방법"
   ]
  },
  {
   "cell_type": "code",
   "execution_count": null,
   "metadata": {
    "collapsed": true
   },
   "outputs": [],
   "source": [
    "def storeTree(inputTree, filename):\n",
    "    import pickle\n",
    "    fw = open(filename, 'wb') # 이진 파일 읽고 쓰기(기존 파일 삭제)\n",
    "    pickle.dump(inputTree, fw) # \n",
    "    fw.close()"
   ]
  },
  {
   "cell_type": "code",
   "execution_count": null,
   "metadata": {
    "collapsed": true
   },
   "outputs": [],
   "source": [
    "def grabTree(filename):\n",
    "    import pickle\n",
    "    fr = open(filename, 'rb') # 이진 파일 읽기 전용\n",
    "    return pickle.load(fr)"
   ]
  },
  {
   "cell_type": "markdown",
   "metadata": {},
   "source": [
    "> pickle : 텍스트 이외의 자료형을 파일로 저장하기 위한 표준 라이브러리\n",
    "\n",
    "> [**pickle 관련한 자료**](http://www.incodom.kr/%ED%8C%8C%EC%9D%B4%EC%8D%AC/%EB%AA%A8%EB%93%88/pickle)"
   ]
  },
  {
   "cell_type": "code",
   "execution_count": null,
   "metadata": {
    "collapsed": true
   },
   "outputs": [],
   "source": [
    "storeTree(myTree, 'classfierStorage.txt')\n",
    "grabTree('classfierStorage.txt')"
   ]
  },
  {
   "cell_type": "markdown",
   "metadata": {},
   "source": [
    "### -------------------------------------------------------------------------------------------------------------------------------------------------------\n",
    "## 4. 예제 : 콘텍트 렌즈 유형 예측하기\n",
    "### -------------------------------------------------------------------------------------------------------------------------------------------------------"
   ]
  },
  {
   "cell_type": "markdown",
   "metadata": {},
   "source": [
    "#### Data set 설명"
   ]
  },
  {
   "cell_type": "code",
   "execution_count": 122,
   "metadata": {},
   "outputs": [
    {
     "data": {
      "text/html": [
       "<div>\n",
       "<style>\n",
       "    .dataframe thead tr:only-child th {\n",
       "        text-align: right;\n",
       "    }\n",
       "\n",
       "    .dataframe thead th {\n",
       "        text-align: left;\n",
       "    }\n",
       "\n",
       "    .dataframe tbody tr th {\n",
       "        vertical-align: top;\n",
       "    }\n",
       "</style>\n",
       "<table border=\"1\" class=\"dataframe\">\n",
       "  <thead>\n",
       "    <tr style=\"text-align: right;\">\n",
       "      <th></th>\n",
       "      <th>0</th>\n",
       "      <th>1</th>\n",
       "      <th>2</th>\n",
       "      <th>3</th>\n",
       "      <th>4</th>\n",
       "    </tr>\n",
       "  </thead>\n",
       "  <tbody>\n",
       "    <tr>\n",
       "      <th>0</th>\n",
       "      <td>young</td>\n",
       "      <td>myope</td>\n",
       "      <td>no</td>\n",
       "      <td>reduced</td>\n",
       "      <td>no lenses</td>\n",
       "    </tr>\n",
       "    <tr>\n",
       "      <th>1</th>\n",
       "      <td>young</td>\n",
       "      <td>myope</td>\n",
       "      <td>no</td>\n",
       "      <td>normal</td>\n",
       "      <td>soft</td>\n",
       "    </tr>\n",
       "    <tr>\n",
       "      <th>2</th>\n",
       "      <td>young</td>\n",
       "      <td>myope</td>\n",
       "      <td>yes</td>\n",
       "      <td>reduced</td>\n",
       "      <td>no lenses</td>\n",
       "    </tr>\n",
       "    <tr>\n",
       "      <th>3</th>\n",
       "      <td>young</td>\n",
       "      <td>myope</td>\n",
       "      <td>yes</td>\n",
       "      <td>normal</td>\n",
       "      <td>hard</td>\n",
       "    </tr>\n",
       "    <tr>\n",
       "      <th>4</th>\n",
       "      <td>young</td>\n",
       "      <td>hyper</td>\n",
       "      <td>no</td>\n",
       "      <td>reduced</td>\n",
       "      <td>no lenses</td>\n",
       "    </tr>\n",
       "    <tr>\n",
       "      <th>5</th>\n",
       "      <td>young</td>\n",
       "      <td>hyper</td>\n",
       "      <td>no</td>\n",
       "      <td>normal</td>\n",
       "      <td>soft</td>\n",
       "    </tr>\n",
       "    <tr>\n",
       "      <th>6</th>\n",
       "      <td>young</td>\n",
       "      <td>hyper</td>\n",
       "      <td>yes</td>\n",
       "      <td>reduced</td>\n",
       "      <td>no lenses</td>\n",
       "    </tr>\n",
       "    <tr>\n",
       "      <th>7</th>\n",
       "      <td>young</td>\n",
       "      <td>hyper</td>\n",
       "      <td>yes</td>\n",
       "      <td>normal</td>\n",
       "      <td>hard</td>\n",
       "    </tr>\n",
       "    <tr>\n",
       "      <th>8</th>\n",
       "      <td>pre</td>\n",
       "      <td>myope</td>\n",
       "      <td>no</td>\n",
       "      <td>reduced</td>\n",
       "      <td>no lenses</td>\n",
       "    </tr>\n",
       "    <tr>\n",
       "      <th>9</th>\n",
       "      <td>pre</td>\n",
       "      <td>myope</td>\n",
       "      <td>no</td>\n",
       "      <td>normal</td>\n",
       "      <td>soft</td>\n",
       "    </tr>\n",
       "    <tr>\n",
       "      <th>10</th>\n",
       "      <td>pre</td>\n",
       "      <td>myope</td>\n",
       "      <td>yes</td>\n",
       "      <td>reduced</td>\n",
       "      <td>no lenses</td>\n",
       "    </tr>\n",
       "    <tr>\n",
       "      <th>11</th>\n",
       "      <td>pre</td>\n",
       "      <td>myope</td>\n",
       "      <td>yes</td>\n",
       "      <td>normal</td>\n",
       "      <td>hard</td>\n",
       "    </tr>\n",
       "    <tr>\n",
       "      <th>12</th>\n",
       "      <td>pre</td>\n",
       "      <td>hyper</td>\n",
       "      <td>no</td>\n",
       "      <td>reduced</td>\n",
       "      <td>no lenses</td>\n",
       "    </tr>\n",
       "    <tr>\n",
       "      <th>13</th>\n",
       "      <td>pre</td>\n",
       "      <td>hyper</td>\n",
       "      <td>no</td>\n",
       "      <td>normal</td>\n",
       "      <td>soft</td>\n",
       "    </tr>\n",
       "    <tr>\n",
       "      <th>14</th>\n",
       "      <td>pre</td>\n",
       "      <td>hyper</td>\n",
       "      <td>yes</td>\n",
       "      <td>reduced</td>\n",
       "      <td>no lenses</td>\n",
       "    </tr>\n",
       "    <tr>\n",
       "      <th>15</th>\n",
       "      <td>pre</td>\n",
       "      <td>hyper</td>\n",
       "      <td>yes</td>\n",
       "      <td>normal</td>\n",
       "      <td>no lenses</td>\n",
       "    </tr>\n",
       "    <tr>\n",
       "      <th>16</th>\n",
       "      <td>presbyopic</td>\n",
       "      <td>myope</td>\n",
       "      <td>no</td>\n",
       "      <td>reduced</td>\n",
       "      <td>no lenses</td>\n",
       "    </tr>\n",
       "    <tr>\n",
       "      <th>17</th>\n",
       "      <td>presbyopic</td>\n",
       "      <td>myope</td>\n",
       "      <td>no</td>\n",
       "      <td>normal</td>\n",
       "      <td>no lenses</td>\n",
       "    </tr>\n",
       "    <tr>\n",
       "      <th>18</th>\n",
       "      <td>presbyopic</td>\n",
       "      <td>myope</td>\n",
       "      <td>yes</td>\n",
       "      <td>reduced</td>\n",
       "      <td>no lenses</td>\n",
       "    </tr>\n",
       "    <tr>\n",
       "      <th>19</th>\n",
       "      <td>presbyopic</td>\n",
       "      <td>myope</td>\n",
       "      <td>yes</td>\n",
       "      <td>normal</td>\n",
       "      <td>hard</td>\n",
       "    </tr>\n",
       "    <tr>\n",
       "      <th>20</th>\n",
       "      <td>presbyopic</td>\n",
       "      <td>hyper</td>\n",
       "      <td>no</td>\n",
       "      <td>reduced</td>\n",
       "      <td>no lenses</td>\n",
       "    </tr>\n",
       "    <tr>\n",
       "      <th>21</th>\n",
       "      <td>presbyopic</td>\n",
       "      <td>hyper</td>\n",
       "      <td>no</td>\n",
       "      <td>normal</td>\n",
       "      <td>soft</td>\n",
       "    </tr>\n",
       "    <tr>\n",
       "      <th>22</th>\n",
       "      <td>presbyopic</td>\n",
       "      <td>hyper</td>\n",
       "      <td>yes</td>\n",
       "      <td>reduced</td>\n",
       "      <td>no lenses</td>\n",
       "    </tr>\n",
       "    <tr>\n",
       "      <th>23</th>\n",
       "      <td>presbyopic</td>\n",
       "      <td>hyper</td>\n",
       "      <td>yes</td>\n",
       "      <td>normal</td>\n",
       "      <td>no lenses</td>\n",
       "    </tr>\n",
       "  </tbody>\n",
       "</table>\n",
       "</div>"
      ],
      "text/plain": [
       "             0      1    2        3          4\n",
       "0        young  myope   no  reduced  no lenses\n",
       "1        young  myope   no   normal       soft\n",
       "2        young  myope  yes  reduced  no lenses\n",
       "3        young  myope  yes   normal       hard\n",
       "4        young  hyper   no  reduced  no lenses\n",
       "5        young  hyper   no   normal       soft\n",
       "6        young  hyper  yes  reduced  no lenses\n",
       "7        young  hyper  yes   normal       hard\n",
       "8          pre  myope   no  reduced  no lenses\n",
       "9          pre  myope   no   normal       soft\n",
       "10         pre  myope  yes  reduced  no lenses\n",
       "11         pre  myope  yes   normal       hard\n",
       "12         pre  hyper   no  reduced  no lenses\n",
       "13         pre  hyper   no   normal       soft\n",
       "14         pre  hyper  yes  reduced  no lenses\n",
       "15         pre  hyper  yes   normal  no lenses\n",
       "16  presbyopic  myope   no  reduced  no lenses\n",
       "17  presbyopic  myope   no   normal  no lenses\n",
       "18  presbyopic  myope  yes  reduced  no lenses\n",
       "19  presbyopic  myope  yes   normal       hard\n",
       "20  presbyopic  hyper   no  reduced  no lenses\n",
       "21  presbyopic  hyper   no   normal       soft\n",
       "22  presbyopic  hyper  yes  reduced  no lenses\n",
       "23  presbyopic  hyper  yes   normal  no lenses"
      ]
     },
     "execution_count": 122,
     "metadata": {},
     "output_type": "execute_result"
    }
   ],
   "source": [
    "import pandas as pd\n",
    "pd.read_table('lenses.txt', header = None)"
   ]
  },
  {
   "cell_type": "code",
   "execution_count": null,
   "metadata": {
    "collapsed": true
   },
   "outputs": [],
   "source": [
    "fr = open('lenses_num.txt')"
   ]
  },
  {
   "cell_type": "code",
   "execution_count": null,
   "metadata": {
    "collapsed": true
   },
   "outputs": [],
   "source": [
    "lenses = [inst.strip().split('\\t') for inst in fr.readlines()]"
   ]
  },
  {
   "cell_type": "code",
   "execution_count": null,
   "metadata": {
    "collapsed": true
   },
   "outputs": [],
   "source": [
    "lensesLabels = ['age', 'prescript', 'astigmatic', 'tearRate']"
   ]
  },
  {
   "cell_type": "code",
   "execution_count": null,
   "metadata": {
    "collapsed": true
   },
   "outputs": [],
   "source": [
    "lensesTree = createTree(lenses, lensesLabels)"
   ]
  },
  {
   "cell_type": "code",
   "execution_count": 121,
   "metadata": {},
   "outputs": [
    {
     "ename": "NameError",
     "evalue": "name 'pd' is not defined",
     "output_type": "error",
     "traceback": [
      "\u001b[1;31m---------------------------------------------------------------------------\u001b[0m",
      "\u001b[1;31mNameError\u001b[0m                                 Traceback (most recent call last)",
      "\u001b[1;32m<ipython-input-121-214cb6941960>\u001b[0m in \u001b[0;36m<module>\u001b[1;34m()\u001b[0m\n\u001b[1;32m----> 1\u001b[1;33m \u001b[0mpd\u001b[0m\u001b[1;33m.\u001b[0m\u001b[0mread_table\u001b[0m\u001b[1;33m(\u001b[0m\u001b[1;34m'lenses_num.txt'\u001b[0m\u001b[1;33m,\u001b[0m\u001b[0mheader\u001b[0m \u001b[1;33m=\u001b[0m \u001b[1;32mNone\u001b[0m\u001b[1;33m)\u001b[0m\u001b[1;33m\u001b[0m\u001b[0m\n\u001b[0m",
      "\u001b[1;31mNameError\u001b[0m: name 'pd' is not defined"
     ]
    }
   ],
   "source": [
    "pd.read_table('lenses_num.txt',header = None)"
   ]
  }
 ],
 "metadata": {
  "kernelspec": {
   "display_name": "Python 3",
   "language": "python",
   "name": "python3"
  },
  "language_info": {
   "codemirror_mode": {
    "name": "ipython",
    "version": 3
   },
   "file_extension": ".py",
   "mimetype": "text/x-python",
   "name": "python",
   "nbconvert_exporter": "python",
   "pygments_lexer": "ipython3",
   "version": "3.5.4"
  }
 },
 "nbformat": 4,
 "nbformat_minor": 2
}
