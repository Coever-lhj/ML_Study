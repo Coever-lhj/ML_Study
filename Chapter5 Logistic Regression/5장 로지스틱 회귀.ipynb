{
 "cells": [
  {
   "cell_type": "markdown",
   "metadata": {},
   "source": [
    "# 로지스틱 회귀"
   ]
  },
  {
   "cell_type": "markdown",
   "metadata": {},
   "source": [
    "+ 시그모이드 함수와 로지스틱 회귀 분류기\n",
    "\n",
    "+ 처음 등장하는 최적화 알고리즘\n",
    "\n",
    "+ 기울기 하강 최적화 알고리즘\n",
    "\n",
    "+ 누락된 값이 있는 데이터 처리하기"
   ]
  },
  {
   "cell_type": "markdown",
   "metadata": {},
   "source": [
    "분류를 위해 비선형(nonlinear)함수를 훈련하는 몇가지 최적화 알고리즘! 다룸"
   ]
  },
  {
   "cell_type": "markdown",
   "metadata": {},
   "source": [
    "#### [로지스틱 회귀의 일반적인 접근 방법]"
   ]
  },
  {
   "cell_type": "markdown",
   "metadata": {},
   "source": [
    "1. 수집 : 모든 방법\n",
    "2. 수치형 값은 거리를 계산하는데 필요하다. 구조적인 데이터 형태가 가장 좋음\n",
    "3. 분석 : 모든 방법\n",
    "4. 훈련 : 훈련하는 데 대부분의 시간을 보내며, 이 단계에서 데이터를 분류하기 위해 최적의 계수를 찾는다.\n",
    "5. 검사 : 훈련 단계를 마치고 나면 분류는 빠르게 쉽게 진행된다.\n",
    "6. 사용 : 이 응용 프로그램은 약간에 입력 데이터가 있어야 하며, 수치형으로 구성된 값을 출력한다. 그런 다음 응용 프로그램은 입력 데이터에 간단한 회귀 계산을 적용하고, 입력 데이터가 속하는 분류 항목을 결정한다. 또한, 응용 프로그램은 계산된 분류 항목에서 몇 가지 동작을 수행한다."
   ]
  },
  {
   "cell_type": "markdown",
   "metadata": {},
   "source": [
    "## 5.1 로지스틱 회귀와 시그모이드 함수로 분류하기: 다루기 쉬운 계단 함수\n",
    "\n",
    "#### [로지스틱 회귀]\n",
    "\n",
    "**장점**:계산 비용이 적고, 구현 쉬움, 결과 해석을 위한 지식 표현이 쉬움\n",
    "\n",
    "**단점**: 언더피팅 경향! 정확도 낮음\n",
    "\n",
    "**활용**: 수치형.명목형 값\n",
    "\n"
   ]
  },
  {
   "cell_type": "markdown",
   "metadata": {},
   "source": [
    "**Sigmoid함수**\n",
    "$$\n",
    "\\sigma(z) = \\frac{1}{1+e^{-z}}\n",
    "$$\n"
   ]
  },
  {
   "cell_type": "code",
   "execution_count": 5,
   "metadata": {},
   "outputs": [
    {
     "data": {
      "image/png": "[encoded data removed]",
      "text/plain": [
       "<matplotlib.figure.Figure at 0x1b59d70ecf8>"
      ]
     },
     "metadata": {},
     "output_type": "display_data"
    }
   ],
   "source": [
    "# import the necessary packages\n",
    "import matplotlib.pyplot as plt\n",
    "import numpy as np\n",
    " \n",
    "    \n",
    "def sigmoid_activation(x):\n",
    "# compute and return the sigmoid activation value for a\n",
    "# given input value\n",
    "    return 1.0 / (1 + np.exp(-x))\n",
    "\n",
    "x = np.linspace(-6, 6, 100)\n",
    "plt.plot(x, sigmoid_activation(x))\n",
    "plt.show()"
   ]
  },
  {
   "cell_type": "markdown",
   "metadata": {},
   "source": [
    "## 5.2 가장 좋은 회귀 계수를 찾기 위해 최적화 사용하기\n",
    "\n",
    "설명한 시그모이드 함수의 입력은 z이며, 이 z는 다음과 같이 주어진다.\n",
    "\n",
    "$z = w_0x_0 + w_1x_1 + w_2x_2 + w_3x_3 + ... + w_nx_n$\n",
    "\n",
    "위 식을 벡터로 표현하면 $z = w^{T}x$ 처럼 나타냄\n",
    "\n",
    "가장 좋은 $ w$를 찾는게 목적 "
   ]
  },
  {
   "cell_type": "markdown",
   "metadata": {},
   "source": [
    "### 5.2.1 기울기 상승"
   ]
  },
  {
   "cell_type": "markdown",
   "metadata": {},
   "source": [
    "##### **기울기 상승 알고리즘**\n",
    "$$\n",
    "w: = w + \\sigma \\nabla_w f(w)\n",
    "$$\n",
    "\n",
    "\n",
    "##### **기울기 하강 알고리즘**\n",
    "$$\n",
    "w: = w - \\sigma \\nabla_w f(w)\n",
    "$$"
   ]
  },
  {
   "cell_type": "markdown",
   "metadata": {},
   "source": [
    "#### [리스팅 5,1] 로지스틱 회귀 기울기 상승 최적화 상승"
   ]
  },
  {
   "cell_type": "code",
   "execution_count": 6,
   "metadata": {},
   "outputs": [],
   "source": [
    "import numpy as np\n",
    "\n",
    "def loadDataSet():\n",
    "    dataMat = []; labelMat = []\n",
    "    fr = open('testSet.txt')\n",
    "    for line in fr.readlines():\n",
    "        lineArr = line.strip().split()\n",
    "        # w0x0 + w1x1 + w2x2 꼴 만들어 줌(data)\n",
    "        dataMat.append([1.0, float(lineArr[0]), float(lineArr[1])])\n",
    "        # 분류 columns\n",
    "        labelMat.append(int(lineArr[2]))\n",
    "    return dataMat, labelMat"
   ]
  },
  {
   "cell_type": "code",
   "execution_count": null,
   "metadata": {},
   "outputs": [],
   "source": []
  },
  {
   "cell_type": "code",
   "execution_count": 10,
   "metadata": {},
   "outputs": [],
   "source": [
    "def sigmoid(inX):\n",
    "    return 1.0/(1+exp(-inX))"
   ]
  },
  {
   "cell_type": "code",
   "execution_count": 23,
   "metadata": {},
   "outputs": [],
   "source": [
    "def gradAscent(dataMatIn, classLabels):\n",
    "     # convert to NumPy matrix  (100 x 3)\n",
    "    dataMatrix = np.mat(dataMatIn)         \n",
    "     # convert to NumPy matrix  (1 x 100) -> (100 x 1)\n",
    "    labelMat = np.mat(classLabels).transpose()\n",
    "    m, n = np.shape(dataMatrix) # m =100, n = 3\n",
    "    # 단계의 크기\n",
    "    alpha = 0.001\n",
    "    # 계산이 멈출때까지 되풀이되는 반복 횟수\n",
    "    maxCycles = 500\n",
    "    weights = np.ones((n, 1))\n",
    "    for k in range(maxCycles):              #heavy on matrix operations\n",
    "        h = sigmoid(dataMatrix*weights)     #matrix mult\n",
    "        error = (labelMat - h)              #vector subtraction\n",
    "        weights = weights + alpha * dataMatrix.transpose()* error #matrix mult\n",
    "    return weights"
   ]
  },
  {
   "cell_type": "code",
   "execution_count": 20,
   "metadata": {},
   "outputs": [],
   "source": [
    "dataArr, labelMat = loadDataSet()"
   ]
  },
  {
   "cell_type": "code",
   "execution_count": 28,
   "metadata": {},
   "outputs": [],
   "source": [
    "weights = np.ones((3, 1))"
   ]
  },
  {
   "cell_type": "code",
   "execution_count": 29,
   "metadata": {},
   "outputs": [
    {
     "data": {
      "text/plain": [
       "array([[1.],\n",
       "       [1.],\n",
       "       [1.]])"
      ]
     },
     "execution_count": 29,
     "metadata": {},
     "output_type": "execute_result"
    }
   ],
   "source": [
    "weights "
   ]
  },
  {
   "cell_type": "code",
   "execution_count": 24,
   "metadata": {},
   "outputs": [],
   "source": [
    "m, n = np.shape(dataArr)"
   ]
  },
  {
   "cell_type": "code",
   "execution_count": 26,
   "metadata": {},
   "outputs": [
    {
     "data": {
      "text/plain": [
       "100"
      ]
     },
     "execution_count": 26,
     "metadata": {},
     "output_type": "execute_result"
    }
   ],
   "source": [
    "m"
   ]
  },
  {
   "cell_type": "code",
   "execution_count": 27,
   "metadata": {},
   "outputs": [
    {
     "data": {
      "text/plain": [
       "3"
      ]
     },
     "execution_count": 27,
     "metadata": {},
     "output_type": "execute_result"
    }
   ],
   "source": [
    "n"
   ]
  }
 ],
 "metadata": {
  "kernelspec": {
   "display_name": "Python 3",
   "language": "python",
   "name": "python3"
  },
  "language_info": {
   "codemirror_mode": {
    "name": "ipython",
    "version": 3
   },
   "file_extension": ".py",
   "mimetype": "text/x-python",
   "name": "python",
   "nbconvert_exporter": "python",
   "pygments_lexer": "ipython3",
   "version": "3.5.4"
  }
 },
 "nbformat": 4,
 "nbformat_minor": 2
}
